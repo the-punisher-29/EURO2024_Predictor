{
 "cells": [
  {
   "cell_type": "markdown",
   "metadata": {},
   "source": [
    "The code imports necessary libraries for data manipulation, machine learning, and evaluation. It reads a CSV file named \"results.csv\" into a pandas DataFrame, converts string columns to lowercase, and filters the data to include only matches from 2003 onwards.\n",
    "It then creates a new column called 'match_outcome' based on the comparison of 'home_score' and 'away_score' columns, assigning 'home_win', 'away_win', or 'draw' accordingly. Finally, it prints the value counts (frequency) of the 'match_outcome' column, showing how many instances of each outcome exist in the filtered data."
   ]
  },
  {
   "cell_type": "code",
   "execution_count": 31,
   "metadata": {},
   "outputs": [
    {
     "name": "stdout",
     "output_type": "stream",
     "text": [
      "match_outcome\n",
      "home_win    6926\n",
      "away_win    4177\n",
      "draw        3403\n",
      "Name: count, dtype: int64\n"
     ]
    }
   ],
   "source": [
    "import pandas as pd\n",
    "from sklearn.model_selection import train_test_split\n",
    "from sklearn.ensemble import RandomForestClassifier\n",
    "from sklearn.metrics import accuracy_score\n",
    "\n",
    "\n",
    "data = pd.read_csv(\"results.csv\")\n",
    "\n",
    "data = data.apply(lambda x: x.str.lower() if x.dtype == \"object\" else x)\n",
    "data['date'] = pd.to_datetime(data['date'], errors='coerce')\n",
    "data = data[data['date'].dt.year >= 2009]\n",
    "\n",
    "data['match_outcome'] = data.apply(\n",
    "    lambda row: 'home_win' if row['home_score'] > row['away_score'] else ('away_win' if row['home_score'] < row['away_score'] else 'draw'),\n",
    "    axis=1\n",
    ")\n",
    "print(data['match_outcome'].value_counts())"
   ]
  },
  {
   "cell_type": "code",
   "execution_count": 32,
   "metadata": {},
   "outputs": [
    {
     "data": {
      "text/html": [
       "<div>\n",
       "<style scoped>\n",
       "    .dataframe tbody tr th:only-of-type {\n",
       "        vertical-align: middle;\n",
       "    }\n",
       "\n",
       "    .dataframe tbody tr th {\n",
       "        vertical-align: top;\n",
       "    }\n",
       "\n",
       "    .dataframe thead th {\n",
       "        text-align: right;\n",
       "    }\n",
       "</style>\n",
       "<table border=\"1\" class=\"dataframe\">\n",
       "  <thead>\n",
       "    <tr style=\"text-align: right;\">\n",
       "      <th></th>\n",
       "      <th>date</th>\n",
       "      <th>home_score</th>\n",
       "      <th>away_score</th>\n",
       "      <th>tournament</th>\n",
       "      <th>city</th>\n",
       "      <th>country</th>\n",
       "      <th>neutral</th>\n",
       "      <th>match_outcome</th>\n",
       "      <th>home_team_afghanistan</th>\n",
       "      <th>home_team_albania</th>\n",
       "      <th>...</th>\n",
       "      <th>away_team_western isles</th>\n",
       "      <th>away_team_western sahara</th>\n",
       "      <th>away_team_yemen</th>\n",
       "      <th>away_team_ynys môn</th>\n",
       "      <th>away_team_yorkshire</th>\n",
       "      <th>away_team_zambia</th>\n",
       "      <th>away_team_zanzibar</th>\n",
       "      <th>away_team_zimbabwe</th>\n",
       "      <th>away_team_åland</th>\n",
       "      <th>away_team_åland islands</th>\n",
       "    </tr>\n",
       "  </thead>\n",
       "  <tbody>\n",
       "    <tr>\n",
       "      <th>32620</th>\n",
       "      <td>2009-01-01</td>\n",
       "      <td>4.0</td>\n",
       "      <td>0.0</td>\n",
       "      <td>cecafa cup</td>\n",
       "      <td>kampala</td>\n",
       "      <td>uganda</td>\n",
       "      <td>False</td>\n",
       "      <td>home_win</td>\n",
       "      <td>False</td>\n",
       "      <td>False</td>\n",
       "      <td>...</td>\n",
       "      <td>False</td>\n",
       "      <td>False</td>\n",
       "      <td>False</td>\n",
       "      <td>False</td>\n",
       "      <td>False</td>\n",
       "      <td>False</td>\n",
       "      <td>False</td>\n",
       "      <td>False</td>\n",
       "      <td>False</td>\n",
       "      <td>False</td>\n",
       "    </tr>\n",
       "    <tr>\n",
       "      <th>32621</th>\n",
       "      <td>2009-01-01</td>\n",
       "      <td>2.0</td>\n",
       "      <td>0.0</td>\n",
       "      <td>cecafa cup</td>\n",
       "      <td>kampala</td>\n",
       "      <td>uganda</td>\n",
       "      <td>True</td>\n",
       "      <td>home_win</td>\n",
       "      <td>False</td>\n",
       "      <td>False</td>\n",
       "      <td>...</td>\n",
       "      <td>False</td>\n",
       "      <td>False</td>\n",
       "      <td>False</td>\n",
       "      <td>False</td>\n",
       "      <td>False</td>\n",
       "      <td>False</td>\n",
       "      <td>False</td>\n",
       "      <td>False</td>\n",
       "      <td>False</td>\n",
       "      <td>False</td>\n",
       "    </tr>\n",
       "  </tbody>\n",
       "</table>\n",
       "<p>2 rows × 609 columns</p>\n",
       "</div>"
      ],
      "text/plain": [
       "            date  home_score  away_score  tournament     city country  \\\n",
       "32620 2009-01-01         4.0         0.0  cecafa cup  kampala  uganda   \n",
       "32621 2009-01-01         2.0         0.0  cecafa cup  kampala  uganda   \n",
       "\n",
       "       neutral match_outcome  home_team_afghanistan  home_team_albania  ...  \\\n",
       "32620    False      home_win                  False              False  ...   \n",
       "32621     True      home_win                  False              False  ...   \n",
       "\n",
       "       away_team_western isles  away_team_western sahara  away_team_yemen  \\\n",
       "32620                    False                     False            False   \n",
       "32621                    False                     False            False   \n",
       "\n",
       "       away_team_ynys môn  away_team_yorkshire  away_team_zambia  \\\n",
       "32620               False                False             False   \n",
       "32621               False                False             False   \n",
       "\n",
       "       away_team_zanzibar  away_team_zimbabwe  away_team_åland  \\\n",
       "32620               False               False            False   \n",
       "32621               False               False            False   \n",
       "\n",
       "       away_team_åland islands  \n",
       "32620                    False  \n",
       "32621                    False  \n",
       "\n",
       "[2 rows x 609 columns]"
      ]
     },
     "execution_count": 32,
     "metadata": {},
     "output_type": "execute_result"
    }
   ],
   "source": [
    "data = pd.get_dummies(data, columns=['home_team', 'away_team'], drop_first=True)\n",
    "data.head(2)"
   ]
  },
  {
   "cell_type": "markdown",
   "metadata": {},
   "source": [
    "The code creates two new DataFrames: X and y. X is created by dropping several columns ('date', 'home_score', 'away_score', 'match_outcome', 'tournament', 'city', 'country') from the original data DataFrame. y is created by assigning the 'match_outcome' column to it.\n",
    "The 'match_outcome' column in y is then mapped to numerical values: 1 for 'home_win', 0 for 'draw', and -1 for 'away_win'.\n",
    "The train_test_split function from scikit-learn is used to split the X and y DataFrames into training and test sets. The test_size parameter is set to 0.3, meaning 30% of the data will be used for testing, and the remaining 70% for training. The random_state parameter is set to 19 to ensure reproducibility.\n",
    "A Random Forest Classifier model (rf_model) is instantiated with 100 estimators (decision trees) and a random state of 29.\n",
    "The fit method is called on rf_model to train the model using the training data (X_train and y_train).\n",
    "The trained model is used to make predictions on the test data (X_test) using the predict method, and the predictions are stored in y_pred.\n",
    "Finally, the accuracy of the model is calculated by comparing the predicted values (y_pred) with the actual values (y_test) using the accuracy_score function from scikit-learn, and the result is printed."
   ]
  },
  {
   "cell_type": "code",
   "execution_count": 33,
   "metadata": {},
   "outputs": [
    {
     "name": "stdout",
     "output_type": "stream",
     "text": [
      "Accuracy: 0.5085018382352942\n"
     ]
    }
   ],
   "source": [
    "X = data.drop(columns=['date', 'home_score', 'away_score', 'match_outcome', 'tournament', 'city', 'country'])\n",
    "y = data['match_outcome']\n",
    "y = y.map({'home_win': 1, 'draw': 0, 'away_win': -1})\n",
    "\n",
    "X_train, X_test, y_train, y_test = train_test_split(X, y, test_size=0.3, random_state=19)\n",
    "\n",
    "rf_model = RandomForestClassifier(n_estimators=100, random_state=29)\n",
    "rf_model.fit(X_train, y_train)\n",
    "\n",
    "y_pred = rf_model.predict(X_test)\n",
    "print(\"Accuracy:\", accuracy_score(y_test, y_pred))"
   ]
  },
  {
   "cell_type": "code",
   "execution_count": 34,
   "metadata": {},
   "outputs": [],
   "source": [
    "groups = {\n",
    "    \"Group A\": [\"germany\", \"hungary\", \"scotland\", \"switzerland\"],\n",
    "    \"Group B\": [\"albania\", \"croatia\", \"italy\", \"spain\"],\n",
    "    \"Group C\": [\"denmark\", \"england\", \"serbia\", \"slovenia\"],\n",
    "    \"Group D\": [\"austria\", \"france\", \"netherlands\", \"poland\"],\n",
    "    \"Group E\": [\"belgium\", \"romania\", \"slovakia\", \"ukraine\"],\n",
    "    \"Group F\": [\"czech republic\", \"portugal\", \"turkey\", \"georgia\"]\n",
    "}"
   ]
  },
  {
   "cell_type": "code",
   "execution_count": 35,
   "metadata": {},
   "outputs": [],
   "source": [
    "from itertools import combinations\n",
    "\n",
    "def simulate_group_matches(group_teams, model, data_columns):\n",
    "    points = {team: 0 for team in group_teams}\n",
    "\n",
    "    for home_team, away_team in combinations(group_teams, 2):\n",
    "        match_data = pd.DataFrame(columns=data_columns)\n",
    "\n",
    "        for column in data_columns:\n",
    "            if f'home_team_{home_team}' in column:\n",
    "                match_data.at[0, column] = 1\n",
    "            elif f'away_team_{away_team}' in column:\n",
    "                match_data.at[0, column] = 1\n",
    "            else:\n",
    "                match_data.at[0, column] = 0\n",
    "\n",
    "        prediction = model.predict(match_data)\n",
    "\n",
    "\n",
    "        if prediction == 1:\n",
    "            points[home_team] += 3\n",
    "        elif prediction == -1:\n",
    "            points[away_team] += 3\n",
    "        else:\n",
    "            points[home_team] += 1\n",
    "            points[away_team] += 1\n",
    "\n",
    "    ranked_teams = sorted(points.items(), key=lambda x: x[1], reverse=True)\n",
    "    return ranked_teams"
   ]
  },
  {
   "cell_type": "code",
   "execution_count": 36,
   "metadata": {},
   "outputs": [
    {
     "name": "stdout",
     "output_type": "stream",
     "text": [
      "{   'Group A': [   ('germany', 7),\n",
      "                   ('switzerland', 4),\n",
      "                   ('hungary', 3),\n",
      "                   ('scotland', 3)],\n",
      "    'Group B': [('croatia', 7), ('italy', 5), ('spain', 4), ('albania', 0)],\n",
      "    'Group C': [('denmark', 7), ('england', 7), ('serbia', 3), ('slovenia', 0)],\n",
      "    'Group D': [   ('france', 7),\n",
      "                   ('netherlands', 6),\n",
      "                   ('poland', 3),\n",
      "                   ('austria', 1)],\n",
      "    'Group E': [   ('belgium', 9),\n",
      "                   ('slovakia', 4),\n",
      "                   ('ukraine', 3),\n",
      "                   ('romania', 1)],\n",
      "    'Group F': [   ('turkey', 9),\n",
      "                   ('portugal', 6),\n",
      "                   ('czech republic', 3),\n",
      "                   ('georgia', 0)]}\n"
     ]
    }
   ],
   "source": [
    "import pprint\n",
    "\n",
    "group_rankings = {}\n",
    "for group_name, group_teams in groups.items():\n",
    "    ranked_teams = simulate_group_matches(group_teams, rf_model, X.columns)\n",
    "    group_rankings[group_name] = ranked_teams\n",
    "\n",
    "pp = pprint.PrettyPrinter(indent=4)\n",
    "pp.pprint(group_rankings)"
   ]
  },
  {
   "cell_type": "markdown",
   "metadata": {},
   "source": [
    "As per EURO2024 defined brackets"
   ]
  },
  {
   "cell_type": "code",
   "execution_count": 37,
   "metadata": {},
   "outputs": [],
   "source": [
    "ro16_matches = [ # Just demo :)\n",
    "    ('spain', 'poland'),\n",
    "    ('germany', 'england'),\n",
    "    ('turkey', 'hungary'),\n",
    "    ('netherlands', 'slovakia'),\n",
    "    ('belgium', 'croatia'),\n",
    "    ('france', 'portugal'),\n",
    "    ('denmark', 'czech republic'),\n",
    "    ('switzerland', 'italy')\n",
    "]"
   ]
  },
  {
   "cell_type": "code",
   "execution_count": 39,
   "metadata": {},
   "outputs": [
    {
     "name": "stdout",
     "output_type": "stream",
     "text": [
      "RO16 Results:\n",
      "spain vs poland -> Winner: spain\n",
      "germany vs england -> Winner: germany\n",
      "turkey vs hungary -> Winner: hungary\n",
      "netherlands vs slovakia -> Winner: netherlands\n",
      "belgium vs croatia -> Winner: croatia\n",
      "france vs portugal -> Winner: france\n",
      "denmark vs czech republic -> Winner: denmark\n",
      "switzerland vs italy -> Winner: switzerland\n",
      "\n",
      "RO16 Results Dictionary:\n",
      "{'spain vs poland': 'spain', 'germany vs england': 'germany', 'turkey vs hungary': 'hungary', 'netherlands vs slovakia': 'netherlands', 'belgium vs croatia': 'croatia', 'france vs portugal': 'france', 'denmark vs czech republic': 'denmark', 'switzerland vs italy': 'switzerland'}\n"
     ]
    }
   ],
   "source": [
    "def simulate_knockout_match(home_team, away_team, model, data_columns):\n",
    "    match_data = pd.DataFrame(columns=data_columns)\n",
    "\n",
    "    for column in data_columns:\n",
    "        if f'home_team_{home_team}' in column:\n",
    "            match_data.at[0, column] = 1\n",
    "        elif f'away_team_{away_team}' in column:\n",
    "            match_data.at[0, column] = 1\n",
    "        else:\n",
    "            match_data.at[0, column] = 0\n",
    "\n",
    "    prediction = model.predict(match_data)\n",
    "    if prediction == 1:\n",
    "        return home_team\n",
    "    elif prediction == -1:\n",
    "        return away_team\n",
    "    else:\n",
    "        return home_team if model.predict_proba(match_data)[0][1] > model.predict_proba(match_data)[0][2] else away_team\n",
    "\n",
    "\n",
    "ro16_results = {}\n",
    "print(\"RO16 Results:\")\n",
    "for home_team, away_team in ro16_matches:\n",
    "    winner = simulate_knockout_match(home_team, away_team, rf_model, X.columns)\n",
    "    ro16_results[f\"{home_team} vs {away_team}\"] = winner\n",
    "    print(f\"{home_team} vs {away_team} -> Winner: {winner}\")\n",
    "\n",
    "print(\"\\nRO16 Results Dictionary:\")\n",
    "print(ro16_results)"
   ]
  },
  {
   "cell_type": "code",
   "execution_count": 40,
   "metadata": {},
   "outputs": [
    {
     "name": "stdout",
     "output_type": "stream",
     "text": [
      "\n",
      "QF Results:\n",
      "netherlands vs germany -> Winner: netherlands\n",
      "france vs croatia -> Winner: france\n",
      "denmark vs switzerland -> Winner: denmark\n",
      "hungary vs spain -> Winner: spain\n"
     ]
    }
   ],
   "source": [
    "ro16_winners = list(ro16_results.values())\n",
    "qf_matches = [\n",
    "    (ro16_winners[3], ro16_winners[1]),\n",
    "    (ro16_winners[5], ro16_winners[4]),\n",
    "    (ro16_winners[6], ro16_winners[7]),\n",
    "    (ro16_winners[2], ro16_winners[0])\n",
    "]\n",
    "\n",
    "\n",
    "qf_results = {}\n",
    "print(\"\\nQF Results:\")\n",
    "for home_team, away_team in qf_matches:\n",
    "    winner = simulate_knockout_match(home_team, away_team, rf_model, X.columns)\n",
    "    qf_results[f\"{home_team} vs {away_team}\"] = winner\n",
    "    print(f\"{home_team} vs {away_team} -> Winner: {winner}\")"
   ]
  },
  {
   "cell_type": "code",
   "execution_count": 41,
   "metadata": {},
   "outputs": [
    {
     "name": "stdout",
     "output_type": "stream",
     "text": [
      "\n",
      "SFResults:\n",
      "netherlands vs france -> Winner: france\n",
      "spain vs denmark -> Winner: spain\n"
     ]
    }
   ],
   "source": [
    "qf_winners = list(qf_results.values())\n",
    "SF_matches = [\n",
    "    (qf_winners[0], qf_winners[1]),\n",
    "    (qf_winners[3], qf_winners[2])\n",
    "]\n",
    "\n",
    "\n",
    "SF_results = {}\n",
    "print(\"\\nSFResults:\")\n",
    "for home_team, away_team in SF_matches:\n",
    "    winner = simulate_knockout_match(home_team, away_team, rf_model, X.columns)\n",
    "    SF_results[f\"{home_team} vs {away_team}\"] = winner\n",
    "    print(f\"{home_team} vs {away_team} -> Winner: {winner}\")"
   ]
  },
  {
   "cell_type": "code",
   "execution_count": 42,
   "metadata": {},
   "outputs": [
    {
     "name": "stdout",
     "output_type": "stream",
     "text": [
      "\n",
      "Finale Result:\n",
      "france vs spain -> Winner: spain\n",
      "\n",
      "Finale Winner:\n",
      "spain\n"
     ]
    }
   ],
   "source": [
    "SF_winners = list(SF_results.values())\n",
    "finale_match = (SF_winners[0], SF_winners[1])\n",
    "\n",
    "print(\"\\nFinale Result:\")\n",
    "finale_winner = simulate_knockout_match(finale_match[0], finale_match[1], rf_model, X.columns)\n",
    "print(f\"{finale_match[0]} vs {finale_match[1]} -> Winner: {finale_winner}\")\n",
    "\n",
    "print(\"\\nFinale Winner:\")\n",
    "print(finale_winner)"
   ]
  }
 ],
 "metadata": {
  "kernelspec": {
   "display_name": "Python 3",
   "language": "python",
   "name": "python3"
  },
  "language_info": {
   "codemirror_mode": {
    "name": "ipython",
    "version": 3
   },
   "file_extension": ".py",
   "mimetype": "text/x-python",
   "name": "python",
   "nbconvert_exporter": "python",
   "pygments_lexer": "ipython3",
   "version": "3.11.5"
  }
 },
 "nbformat": 4,
 "nbformat_minor": 2
}
